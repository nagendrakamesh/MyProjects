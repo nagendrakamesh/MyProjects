{
  "nbformat": 4,
  "nbformat_minor": 0,
  "metadata": {
    "colab": {
      "provenance": [],
      "collapsed_sections": [
        "Hg6eR1UuTw7a",
        "IdrDuwUtbctW",
        "nA2zAn5ZDmXL",
        "pzU8wd8eO5JZ",
        "Qlyq0NP4sH1U",
        "R5OsV3BAsvke",
        "unNWxwOim-SE",
        "AXo5WwY_Biah",
        "tDFnISTkKtEb",
        "v6K53YyCLQF-"
      ],
      "authorship_tag": "ABX9TyOhqnl6Vxz+56UMBN6w+Qtx",
      "include_colab_link": true
    },
    "kernelspec": {
      "name": "python3",
      "display_name": "Python 3"
    },
    "language_info": {
      "name": "python"
    }
  },
  "cells": [
    {
      "cell_type": "markdown",
      "metadata": {
        "id": "view-in-github",
        "colab_type": "text"
      },
      "source": [
        "<a href=\"https://colab.research.google.com/github/nagendrakamesh/MyProjects/blob/main/World_Population.ipynb\" target=\"_parent\"><img src=\"https://colab.research.google.com/assets/colab-badge.svg\" alt=\"Open In Colab\"/></a>"
      ]
    },
    {
      "cell_type": "markdown",
      "source": [
        "#**World Population And Growth**\n",
        "*   Data source : Kaggle\n",
        "*   Data Analysis of the world population of last 52 years\n",
        "*   Useful to monitor the world order in population terms\n",
        "\n",
        "\n",
        "\n",
        "---\n",
        "\n",
        "\n",
        "**Use case of this analysis:**\n",
        "* To know more about the people surviving to reproductive age\n",
        "* To analyse the trends that have far-reaching implications for generations \n",
        "to come\n",
        "* Analysis of fertility rates, increasing urbanisation and accelerating \n",
        "migration\n",
        "* To ensure a sustainable development by delivering a world where every \n",
        "pregnancy is wanted, every birth is safe, and every young person’s \n",
        "potential is fulfilled\n",
        "* This will also ensure human rights protection and proper health facilities \n",
        "are provided to everyone\n",
        "\n"
      ],
      "metadata": {
        "id": "seAnH-u3OFdJ"
      }
    },
    {
      "cell_type": "markdown",
      "source": [
        "###**Opening the file**"
      ],
      "metadata": {
        "id": "Hg6eR1UuTw7a"
      }
    },
    {
      "cell_type": "markdown",
      "source": [
        "**Mount Google Drive**"
      ],
      "metadata": {
        "id": "SsoZAeUea608"
      }
    },
    {
      "cell_type": "code",
      "source": [
        "from google.colab import drive\n",
        "drive.mount('/content/drive')"
      ],
      "metadata": {
        "id": "BD2LtZLobBJW",
        "colab": {
          "base_uri": "https://localhost:8080/"
        },
        "outputId": "2946535f-e3ca-489a-8157-a5a2cf13e980"
      },
      "execution_count": null,
      "outputs": [
        {
          "output_type": "stream",
          "name": "stdout",
          "text": [
            "Mounted at /content/drive\n"
          ]
        }
      ]
    },
    {
      "cell_type": "markdown",
      "source": [
        "**Reading the csv file using pandas**"
      ],
      "metadata": {
        "id": "kL4R6G32bHRw"
      }
    },
    {
      "cell_type": "code",
      "execution_count": null,
      "metadata": {
        "id": "BgJn31hDOBTF"
      },
      "outputs": [],
      "source": [
        "import pandas as pd\n",
        "path='/content/drive/MyDrive/Colab Notebooks/Datasets/world_population.csv'\n",
        "file=open(path) #file is the object referring to the csv file (world population)\n",
        "data=pd.read_csv(file) #data is the object created to store the data of the csv file"
      ]
    },
    {
      "cell_type": "markdown",
      "source": [
        "###**Data Preparation and Cleansing**"
      ],
      "metadata": {
        "id": "IdrDuwUtbctW"
      }
    },
    {
      "cell_type": "markdown",
      "source": [
        "####**Displaying the Data Frame**"
      ],
      "metadata": {
        "id": "nA2zAn5ZDmXL"
      }
    },
    {
      "cell_type": "code",
      "source": [
        "data"
      ],
      "metadata": {
        "colab": {
          "base_uri": "https://localhost:8080/"
        },
        "id": "JdbsVXPQC_rI",
        "outputId": "c82de19a-0660-4146-c597-c18382254738"
      },
      "execution_count": null,
      "outputs": [
        {
          "output_type": "execute_result",
          "data": {
            "text/plain": [
              "     Rank CCA3            Country           Capital Continent  \\\n",
              "0      36  AFG        Afghanistan             Kabul      Asia   \n",
              "1     138  ALB            Albania            Tirana    Europe   \n",
              "2      34  DZA            Algeria           Algiers    Africa   \n",
              "3     213  ASM     American Samoa         Pago Pago   Oceania   \n",
              "4     203  AND            Andorra  Andorra la Vella    Europe   \n",
              "..    ...  ...                ...               ...       ...   \n",
              "229   226  WLF  Wallis and Futuna          Mata-Utu   Oceania   \n",
              "230   172  ESH     Western Sahara          El Aaiún    Africa   \n",
              "231    46  YEM              Yemen             Sanaa      Asia   \n",
              "232    63  ZMB             Zambia            Lusaka    Africa   \n",
              "233    74  ZWE           Zimbabwe            Harare    Africa   \n",
              "\n",
              "     2022 Population  2020 Population  2015 Population  2010 Population  \\\n",
              "0           41128771         38972230         33753499         28189672   \n",
              "1            2842321          2866849          2882481          2913399   \n",
              "2           44903225         43451666         39543154         35856344   \n",
              "3              44273            46189            51368            54849   \n",
              "4              79824            77700            71746            71519   \n",
              "..               ...              ...              ...              ...   \n",
              "229            11572            11655            12182            13142   \n",
              "230           575986           556048           491824           413296   \n",
              "231         33696614         32284046         28516545         24743946   \n",
              "232         20017675         18927715         16248230         13792086   \n",
              "233         16320537         15669666         14154937         12839771   \n",
              "\n",
              "     2000 Population  1990 Population  1980 Population  1970 Population  \\\n",
              "0           19542982         10694796         12486631         10752971   \n",
              "1            3182021          3295066          2941651          2324731   \n",
              "2           30774621         25518074         18739378         13795915   \n",
              "3              58230            47818            32886            27075   \n",
              "4              66097            53569            35611            19860   \n",
              "..               ...              ...              ...              ...   \n",
              "229            14723            13454            11315             9377   \n",
              "230           270375           178529           116775            76371   \n",
              "231         18628700         13375121          9204938          6843607   \n",
              "232          9891136          7686401          5720438          4281671   \n",
              "233         11834676         10113893          7049926          5202918   \n",
              "\n",
              "     Area (km²)  Density (per km²)  Growth Rate  World Population Percentage  \n",
              "0        652230            63.0587       1.0257                         0.52  \n",
              "1         28748            98.8702       0.9957                         0.04  \n",
              "2       2381741            18.8531       1.0164                         0.56  \n",
              "3           199           222.4774       0.9831                         0.00  \n",
              "4           468           170.5641       1.0100                         0.00  \n",
              "..          ...                ...          ...                          ...  \n",
              "229         142            81.4930       0.9953                         0.00  \n",
              "230      266000             2.1654       1.0184                         0.01  \n",
              "231      527968            63.8232       1.0217                         0.42  \n",
              "232      752612            26.5976       1.0280                         0.25  \n",
              "233      390757            41.7665       1.0204                         0.20  \n",
              "\n",
              "[234 rows x 17 columns]"
            ],
            "text/html": [
              "\n",
              "  <div id=\"df-a72eb73d-b727-4470-9477-116e56fc494b\">\n",
              "    <div class=\"colab-df-container\">\n",
              "      <div>\n",
              "<style scoped>\n",
              "    .dataframe tbody tr th:only-of-type {\n",
              "        vertical-align: middle;\n",
              "    }\n",
              "\n",
              "    .dataframe tbody tr th {\n",
              "        vertical-align: top;\n",
              "    }\n",
              "\n",
              "    .dataframe thead th {\n",
              "        text-align: right;\n",
              "    }\n",
              "</style>\n",
              "<table border=\"1\" class=\"dataframe\">\n",
              "  <thead>\n",
              "    <tr style=\"text-align: right;\">\n",
              "      <th></th>\n",
              "      <th>Rank</th>\n",
              "      <th>CCA3</th>\n",
              "      <th>Country</th>\n",
              "      <th>Capital</th>\n",
              "      <th>Continent</th>\n",
              "      <th>2022 Population</th>\n",
              "      <th>2020 Population</th>\n",
              "      <th>2015 Population</th>\n",
              "      <th>2010 Population</th>\n",
              "      <th>2000 Population</th>\n",
              "      <th>1990 Population</th>\n",
              "      <th>1980 Population</th>\n",
              "      <th>1970 Population</th>\n",
              "      <th>Area (km²)</th>\n",
              "      <th>Density (per km²)</th>\n",
              "      <th>Growth Rate</th>\n",
              "      <th>World Population Percentage</th>\n",
              "    </tr>\n",
              "  </thead>\n",
              "  <tbody>\n",
              "    <tr>\n",
              "      <th>0</th>\n",
              "      <td>36</td>\n",
              "      <td>AFG</td>\n",
              "      <td>Afghanistan</td>\n",
              "      <td>Kabul</td>\n",
              "      <td>Asia</td>\n",
              "      <td>41128771</td>\n",
              "      <td>38972230</td>\n",
              "      <td>33753499</td>\n",
              "      <td>28189672</td>\n",
              "      <td>19542982</td>\n",
              "      <td>10694796</td>\n",
              "      <td>12486631</td>\n",
              "      <td>10752971</td>\n",
              "      <td>652230</td>\n",
              "      <td>63.0587</td>\n",
              "      <td>1.0257</td>\n",
              "      <td>0.52</td>\n",
              "    </tr>\n",
              "    <tr>\n",
              "      <th>1</th>\n",
              "      <td>138</td>\n",
              "      <td>ALB</td>\n",
              "      <td>Albania</td>\n",
              "      <td>Tirana</td>\n",
              "      <td>Europe</td>\n",
              "      <td>2842321</td>\n",
              "      <td>2866849</td>\n",
              "      <td>2882481</td>\n",
              "      <td>2913399</td>\n",
              "      <td>3182021</td>\n",
              "      <td>3295066</td>\n",
              "      <td>2941651</td>\n",
              "      <td>2324731</td>\n",
              "      <td>28748</td>\n",
              "      <td>98.8702</td>\n",
              "      <td>0.9957</td>\n",
              "      <td>0.04</td>\n",
              "    </tr>\n",
              "    <tr>\n",
              "      <th>2</th>\n",
              "      <td>34</td>\n",
              "      <td>DZA</td>\n",
              "      <td>Algeria</td>\n",
              "      <td>Algiers</td>\n",
              "      <td>Africa</td>\n",
              "      <td>44903225</td>\n",
              "      <td>43451666</td>\n",
              "      <td>39543154</td>\n",
              "      <td>35856344</td>\n",
              "      <td>30774621</td>\n",
              "      <td>25518074</td>\n",
              "      <td>18739378</td>\n",
              "      <td>13795915</td>\n",
              "      <td>2381741</td>\n",
              "      <td>18.8531</td>\n",
              "      <td>1.0164</td>\n",
              "      <td>0.56</td>\n",
              "    </tr>\n",
              "    <tr>\n",
              "      <th>3</th>\n",
              "      <td>213</td>\n",
              "      <td>ASM</td>\n",
              "      <td>American Samoa</td>\n",
              "      <td>Pago Pago</td>\n",
              "      <td>Oceania</td>\n",
              "      <td>44273</td>\n",
              "      <td>46189</td>\n",
              "      <td>51368</td>\n",
              "      <td>54849</td>\n",
              "      <td>58230</td>\n",
              "      <td>47818</td>\n",
              "      <td>32886</td>\n",
              "      <td>27075</td>\n",
              "      <td>199</td>\n",
              "      <td>222.4774</td>\n",
              "      <td>0.9831</td>\n",
              "      <td>0.00</td>\n",
              "    </tr>\n",
              "    <tr>\n",
              "      <th>4</th>\n",
              "      <td>203</td>\n",
              "      <td>AND</td>\n",
              "      <td>Andorra</td>\n",
              "      <td>Andorra la Vella</td>\n",
              "      <td>Europe</td>\n",
              "      <td>79824</td>\n",
              "      <td>77700</td>\n",
              "      <td>71746</td>\n",
              "      <td>71519</td>\n",
              "      <td>66097</td>\n",
              "      <td>53569</td>\n",
              "      <td>35611</td>\n",
              "      <td>19860</td>\n",
              "      <td>468</td>\n",
              "      <td>170.5641</td>\n",
              "      <td>1.0100</td>\n",
              "      <td>0.00</td>\n",
              "    </tr>\n",
              "    <tr>\n",
              "      <th>...</th>\n",
              "      <td>...</td>\n",
              "      <td>...</td>\n",
              "      <td>...</td>\n",
              "      <td>...</td>\n",
              "      <td>...</td>\n",
              "      <td>...</td>\n",
              "      <td>...</td>\n",
              "      <td>...</td>\n",
              "      <td>...</td>\n",
              "      <td>...</td>\n",
              "      <td>...</td>\n",
              "      <td>...</td>\n",
              "      <td>...</td>\n",
              "      <td>...</td>\n",
              "      <td>...</td>\n",
              "      <td>...</td>\n",
              "      <td>...</td>\n",
              "    </tr>\n",
              "    <tr>\n",
              "      <th>229</th>\n",
              "      <td>226</td>\n",
              "      <td>WLF</td>\n",
              "      <td>Wallis and Futuna</td>\n",
              "      <td>Mata-Utu</td>\n",
              "      <td>Oceania</td>\n",
              "      <td>11572</td>\n",
              "      <td>11655</td>\n",
              "      <td>12182</td>\n",
              "      <td>13142</td>\n",
              "      <td>14723</td>\n",
              "      <td>13454</td>\n",
              "      <td>11315</td>\n",
              "      <td>9377</td>\n",
              "      <td>142</td>\n",
              "      <td>81.4930</td>\n",
              "      <td>0.9953</td>\n",
              "      <td>0.00</td>\n",
              "    </tr>\n",
              "    <tr>\n",
              "      <th>230</th>\n",
              "      <td>172</td>\n",
              "      <td>ESH</td>\n",
              "      <td>Western Sahara</td>\n",
              "      <td>El Aaiún</td>\n",
              "      <td>Africa</td>\n",
              "      <td>575986</td>\n",
              "      <td>556048</td>\n",
              "      <td>491824</td>\n",
              "      <td>413296</td>\n",
              "      <td>270375</td>\n",
              "      <td>178529</td>\n",
              "      <td>116775</td>\n",
              "      <td>76371</td>\n",
              "      <td>266000</td>\n",
              "      <td>2.1654</td>\n",
              "      <td>1.0184</td>\n",
              "      <td>0.01</td>\n",
              "    </tr>\n",
              "    <tr>\n",
              "      <th>231</th>\n",
              "      <td>46</td>\n",
              "      <td>YEM</td>\n",
              "      <td>Yemen</td>\n",
              "      <td>Sanaa</td>\n",
              "      <td>Asia</td>\n",
              "      <td>33696614</td>\n",
              "      <td>32284046</td>\n",
              "      <td>28516545</td>\n",
              "      <td>24743946</td>\n",
              "      <td>18628700</td>\n",
              "      <td>13375121</td>\n",
              "      <td>9204938</td>\n",
              "      <td>6843607</td>\n",
              "      <td>527968</td>\n",
              "      <td>63.8232</td>\n",
              "      <td>1.0217</td>\n",
              "      <td>0.42</td>\n",
              "    </tr>\n",
              "    <tr>\n",
              "      <th>232</th>\n",
              "      <td>63</td>\n",
              "      <td>ZMB</td>\n",
              "      <td>Zambia</td>\n",
              "      <td>Lusaka</td>\n",
              "      <td>Africa</td>\n",
              "      <td>20017675</td>\n",
              "      <td>18927715</td>\n",
              "      <td>16248230</td>\n",
              "      <td>13792086</td>\n",
              "      <td>9891136</td>\n",
              "      <td>7686401</td>\n",
              "      <td>5720438</td>\n",
              "      <td>4281671</td>\n",
              "      <td>752612</td>\n",
              "      <td>26.5976</td>\n",
              "      <td>1.0280</td>\n",
              "      <td>0.25</td>\n",
              "    </tr>\n",
              "    <tr>\n",
              "      <th>233</th>\n",
              "      <td>74</td>\n",
              "      <td>ZWE</td>\n",
              "      <td>Zimbabwe</td>\n",
              "      <td>Harare</td>\n",
              "      <td>Africa</td>\n",
              "      <td>16320537</td>\n",
              "      <td>15669666</td>\n",
              "      <td>14154937</td>\n",
              "      <td>12839771</td>\n",
              "      <td>11834676</td>\n",
              "      <td>10113893</td>\n",
              "      <td>7049926</td>\n",
              "      <td>5202918</td>\n",
              "      <td>390757</td>\n",
              "      <td>41.7665</td>\n",
              "      <td>1.0204</td>\n",
              "      <td>0.20</td>\n",
              "    </tr>\n",
              "  </tbody>\n",
              "</table>\n",
              "<p>234 rows × 17 columns</p>\n",
              "</div>\n",
              "      <button class=\"colab-df-convert\" onclick=\"convertToInteractive('df-a72eb73d-b727-4470-9477-116e56fc494b')\"\n",
              "              title=\"Convert this dataframe to an interactive table.\"\n",
              "              style=\"display:none;\">\n",
              "        \n",
              "  <svg xmlns=\"http://www.w3.org/2000/svg\" height=\"24px\"viewBox=\"0 0 24 24\"\n",
              "       width=\"24px\">\n",
              "    <path d=\"M0 0h24v24H0V0z\" fill=\"none\"/>\n",
              "    <path d=\"M18.56 5.44l.94 2.06.94-2.06 2.06-.94-2.06-.94-.94-2.06-.94 2.06-2.06.94zm-11 1L8.5 8.5l.94-2.06 2.06-.94-2.06-.94L8.5 2.5l-.94 2.06-2.06.94zm10 10l.94 2.06.94-2.06 2.06-.94-2.06-.94-.94-2.06-.94 2.06-2.06.94z\"/><path d=\"M17.41 7.96l-1.37-1.37c-.4-.4-.92-.59-1.43-.59-.52 0-1.04.2-1.43.59L10.3 9.45l-7.72 7.72c-.78.78-.78 2.05 0 2.83L4 21.41c.39.39.9.59 1.41.59.51 0 1.02-.2 1.41-.59l7.78-7.78 2.81-2.81c.8-.78.8-2.07 0-2.86zM5.41 20L4 18.59l7.72-7.72 1.47 1.35L5.41 20z\"/>\n",
              "  </svg>\n",
              "      </button>\n",
              "      \n",
              "  <style>\n",
              "    .colab-df-container {\n",
              "      display:flex;\n",
              "      flex-wrap:wrap;\n",
              "      gap: 12px;\n",
              "    }\n",
              "\n",
              "    .colab-df-convert {\n",
              "      background-color: #E8F0FE;\n",
              "      border: none;\n",
              "      border-radius: 50%;\n",
              "      cursor: pointer;\n",
              "      display: none;\n",
              "      fill: #1967D2;\n",
              "      height: 32px;\n",
              "      padding: 0 0 0 0;\n",
              "      width: 32px;\n",
              "    }\n",
              "\n",
              "    .colab-df-convert:hover {\n",
              "      background-color: #E2EBFA;\n",
              "      box-shadow: 0px 1px 2px rgba(60, 64, 67, 0.3), 0px 1px 3px 1px rgba(60, 64, 67, 0.15);\n",
              "      fill: #174EA6;\n",
              "    }\n",
              "\n",
              "    [theme=dark] .colab-df-convert {\n",
              "      background-color: #3B4455;\n",
              "      fill: #D2E3FC;\n",
              "    }\n",
              "\n",
              "    [theme=dark] .colab-df-convert:hover {\n",
              "      background-color: #434B5C;\n",
              "      box-shadow: 0px 1px 3px 1px rgba(0, 0, 0, 0.15);\n",
              "      filter: drop-shadow(0px 1px 2px rgba(0, 0, 0, 0.3));\n",
              "      fill: #FFFFFF;\n",
              "    }\n",
              "  </style>\n",
              "\n",
              "      <script>\n",
              "        const buttonEl =\n",
              "          document.querySelector('#df-a72eb73d-b727-4470-9477-116e56fc494b button.colab-df-convert');\n",
              "        buttonEl.style.display =\n",
              "          google.colab.kernel.accessAllowed ? 'block' : 'none';\n",
              "\n",
              "        async function convertToInteractive(key) {\n",
              "          const element = document.querySelector('#df-a72eb73d-b727-4470-9477-116e56fc494b');\n",
              "          const dataTable =\n",
              "            await google.colab.kernel.invokeFunction('convertToInteractive',\n",
              "                                                     [key], {});\n",
              "          if (!dataTable) return;\n",
              "\n",
              "          const docLinkHtml = 'Like what you see? Visit the ' +\n",
              "            '<a target=\"_blank\" href=https://colab.research.google.com/notebooks/data_table.ipynb>data table notebook</a>'\n",
              "            + ' to learn more about interactive tables.';\n",
              "          element.innerHTML = '';\n",
              "          dataTable['output_type'] = 'display_data';\n",
              "          await google.colab.output.renderOutput(dataTable, element);\n",
              "          const docLink = document.createElement('div');\n",
              "          docLink.innerHTML = docLinkHtml;\n",
              "          element.appendChild(docLink);\n",
              "        }\n",
              "      </script>\n",
              "    </div>\n",
              "  </div>\n",
              "  "
            ]
          },
          "metadata": {},
          "execution_count": 3
        }
      ]
    },
    {
      "cell_type": "markdown",
      "source": [
        "####**Statistical Information of the Data**"
      ],
      "metadata": {
        "id": "pzU8wd8eO5JZ"
      }
    },
    {
      "cell_type": "code",
      "source": [
        "data.info()"
      ],
      "metadata": {
        "colab": {
          "base_uri": "https://localhost:8080/"
        },
        "id": "QxtSai2jGPxV",
        "outputId": "5c77be06-86d4-4c33-8e94-4b8a464130cc"
      },
      "execution_count": null,
      "outputs": [
        {
          "output_type": "stream",
          "name": "stdout",
          "text": [
            "<class 'pandas.core.frame.DataFrame'>\n",
            "RangeIndex: 234 entries, 0 to 233\n",
            "Data columns (total 17 columns):\n",
            " #   Column                       Non-Null Count  Dtype  \n",
            "---  ------                       --------------  -----  \n",
            " 0   Rank                         234 non-null    int64  \n",
            " 1   CCA3                         234 non-null    object \n",
            " 2   Country                      234 non-null    object \n",
            " 3   Capital                      234 non-null    object \n",
            " 4   Continent                    234 non-null    object \n",
            " 5   2022 Population              234 non-null    int64  \n",
            " 6   2020 Population              234 non-null    int64  \n",
            " 7   2015 Population              234 non-null    int64  \n",
            " 8   2010 Population              234 non-null    int64  \n",
            " 9   2000 Population              234 non-null    int64  \n",
            " 10  1990 Population              234 non-null    int64  \n",
            " 11  1980 Population              234 non-null    int64  \n",
            " 12  1970 Population              234 non-null    int64  \n",
            " 13  Area (km²)                   234 non-null    int64  \n",
            " 14  Density (per km²)            234 non-null    float64\n",
            " 15  Growth Rate                  234 non-null    float64\n",
            " 16  World Population Percentage  234 non-null    float64\n",
            "dtypes: float64(3), int64(10), object(4)\n",
            "memory usage: 31.2+ KB\n"
          ]
        }
      ]
    },
    {
      "cell_type": "code",
      "source": [
        "data.describe()"
      ],
      "metadata": {
        "colab": {
          "base_uri": "https://localhost:8080/"
        },
        "id": "mUDTXOG6IA-o",
        "outputId": "37a9292b-45a0-4e9e-e14f-d27f8e445371"
      },
      "execution_count": null,
      "outputs": [
        {
          "output_type": "execute_result",
          "data": {
            "text/plain": [
              "             Rank  2022 Population  2020 Population  2015 Population  \\\n",
              "count  234.000000     2.340000e+02     2.340000e+02     2.340000e+02   \n",
              "mean   117.500000     3.407441e+07     3.350107e+07     3.172996e+07   \n",
              "std     67.694165     1.367664e+08     1.355899e+08     1.304050e+08   \n",
              "min      1.000000     5.100000e+02     5.200000e+02     5.640000e+02   \n",
              "25%     59.250000     4.197385e+05     4.152845e+05     4.046760e+05   \n",
              "50%    117.500000     5.559944e+06     5.493074e+06     5.307400e+06   \n",
              "75%    175.750000     2.247650e+07     2.144798e+07     1.973085e+07   \n",
              "max    234.000000     1.425887e+09     1.424930e+09     1.393715e+09   \n",
              "\n",
              "       2010 Population  2000 Population  1990 Population  1980 Population  \\\n",
              "count     2.340000e+02     2.340000e+02     2.340000e+02     2.340000e+02   \n",
              "mean      2.984524e+07     2.626947e+07     2.271022e+07     1.898462e+07   \n",
              "std       1.242185e+08     1.116982e+08     9.783217e+07     8.178519e+07   \n",
              "min       5.960000e+02     6.510000e+02     7.000000e+02     7.330000e+02   \n",
              "25%       3.931490e+05     3.272420e+05     2.641158e+05     2.296142e+05   \n",
              "50%       4.942770e+06     4.292907e+06     3.825410e+06     3.141146e+06   \n",
              "75%       1.915957e+07     1.576230e+07     1.186923e+07     9.826054e+06   \n",
              "max       1.348191e+09     1.264099e+09     1.153704e+09     9.823725e+08   \n",
              "\n",
              "       1970 Population    Area (km²)  Density (per km²)  Growth Rate  \\\n",
              "count     2.340000e+02  2.340000e+02         234.000000   234.000000   \n",
              "mean      1.578691e+07  5.814494e+05         452.127044     1.009577   \n",
              "std       6.779509e+07  1.761841e+06        2066.121904     0.013385   \n",
              "min       7.520000e+02  1.000000e+00           0.026100     0.912000   \n",
              "25%       1.559970e+05  2.650000e+03          38.417875     1.001775   \n",
              "50%       2.604830e+06  8.119950e+04          95.346750     1.007900   \n",
              "75%       8.817329e+06  4.304258e+05         238.933250     1.016950   \n",
              "max       8.225344e+08  1.709824e+07       23172.266700     1.069100   \n",
              "\n",
              "       World Population Percentage  \n",
              "count                   234.000000  \n",
              "mean                      0.427051  \n",
              "std                       1.714977  \n",
              "min                       0.000000  \n",
              "25%                       0.010000  \n",
              "50%                       0.070000  \n",
              "75%                       0.280000  \n",
              "max                      17.880000  "
            ],
            "text/html": [
              "\n",
              "  <div id=\"df-70c2d954-3fd6-41aa-9bdf-534796b94d34\">\n",
              "    <div class=\"colab-df-container\">\n",
              "      <div>\n",
              "<style scoped>\n",
              "    .dataframe tbody tr th:only-of-type {\n",
              "        vertical-align: middle;\n",
              "    }\n",
              "\n",
              "    .dataframe tbody tr th {\n",
              "        vertical-align: top;\n",
              "    }\n",
              "\n",
              "    .dataframe thead th {\n",
              "        text-align: right;\n",
              "    }\n",
              "</style>\n",
              "<table border=\"1\" class=\"dataframe\">\n",
              "  <thead>\n",
              "    <tr style=\"text-align: right;\">\n",
              "      <th></th>\n",
              "      <th>Rank</th>\n",
              "      <th>2022 Population</th>\n",
              "      <th>2020 Population</th>\n",
              "      <th>2015 Population</th>\n",
              "      <th>2010 Population</th>\n",
              "      <th>2000 Population</th>\n",
              "      <th>1990 Population</th>\n",
              "      <th>1980 Population</th>\n",
              "      <th>1970 Population</th>\n",
              "      <th>Area (km²)</th>\n",
              "      <th>Density (per km²)</th>\n",
              "      <th>Growth Rate</th>\n",
              "      <th>World Population Percentage</th>\n",
              "    </tr>\n",
              "  </thead>\n",
              "  <tbody>\n",
              "    <tr>\n",
              "      <th>count</th>\n",
              "      <td>234.000000</td>\n",
              "      <td>2.340000e+02</td>\n",
              "      <td>2.340000e+02</td>\n",
              "      <td>2.340000e+02</td>\n",
              "      <td>2.340000e+02</td>\n",
              "      <td>2.340000e+02</td>\n",
              "      <td>2.340000e+02</td>\n",
              "      <td>2.340000e+02</td>\n",
              "      <td>2.340000e+02</td>\n",
              "      <td>2.340000e+02</td>\n",
              "      <td>234.000000</td>\n",
              "      <td>234.000000</td>\n",
              "      <td>234.000000</td>\n",
              "    </tr>\n",
              "    <tr>\n",
              "      <th>mean</th>\n",
              "      <td>117.500000</td>\n",
              "      <td>3.407441e+07</td>\n",
              "      <td>3.350107e+07</td>\n",
              "      <td>3.172996e+07</td>\n",
              "      <td>2.984524e+07</td>\n",
              "      <td>2.626947e+07</td>\n",
              "      <td>2.271022e+07</td>\n",
              "      <td>1.898462e+07</td>\n",
              "      <td>1.578691e+07</td>\n",
              "      <td>5.814494e+05</td>\n",
              "      <td>452.127044</td>\n",
              "      <td>1.009577</td>\n",
              "      <td>0.427051</td>\n",
              "    </tr>\n",
              "    <tr>\n",
              "      <th>std</th>\n",
              "      <td>67.694165</td>\n",
              "      <td>1.367664e+08</td>\n",
              "      <td>1.355899e+08</td>\n",
              "      <td>1.304050e+08</td>\n",
              "      <td>1.242185e+08</td>\n",
              "      <td>1.116982e+08</td>\n",
              "      <td>9.783217e+07</td>\n",
              "      <td>8.178519e+07</td>\n",
              "      <td>6.779509e+07</td>\n",
              "      <td>1.761841e+06</td>\n",
              "      <td>2066.121904</td>\n",
              "      <td>0.013385</td>\n",
              "      <td>1.714977</td>\n",
              "    </tr>\n",
              "    <tr>\n",
              "      <th>min</th>\n",
              "      <td>1.000000</td>\n",
              "      <td>5.100000e+02</td>\n",
              "      <td>5.200000e+02</td>\n",
              "      <td>5.640000e+02</td>\n",
              "      <td>5.960000e+02</td>\n",
              "      <td>6.510000e+02</td>\n",
              "      <td>7.000000e+02</td>\n",
              "      <td>7.330000e+02</td>\n",
              "      <td>7.520000e+02</td>\n",
              "      <td>1.000000e+00</td>\n",
              "      <td>0.026100</td>\n",
              "      <td>0.912000</td>\n",
              "      <td>0.000000</td>\n",
              "    </tr>\n",
              "    <tr>\n",
              "      <th>25%</th>\n",
              "      <td>59.250000</td>\n",
              "      <td>4.197385e+05</td>\n",
              "      <td>4.152845e+05</td>\n",
              "      <td>4.046760e+05</td>\n",
              "      <td>3.931490e+05</td>\n",
              "      <td>3.272420e+05</td>\n",
              "      <td>2.641158e+05</td>\n",
              "      <td>2.296142e+05</td>\n",
              "      <td>1.559970e+05</td>\n",
              "      <td>2.650000e+03</td>\n",
              "      <td>38.417875</td>\n",
              "      <td>1.001775</td>\n",
              "      <td>0.010000</td>\n",
              "    </tr>\n",
              "    <tr>\n",
              "      <th>50%</th>\n",
              "      <td>117.500000</td>\n",
              "      <td>5.559944e+06</td>\n",
              "      <td>5.493074e+06</td>\n",
              "      <td>5.307400e+06</td>\n",
              "      <td>4.942770e+06</td>\n",
              "      <td>4.292907e+06</td>\n",
              "      <td>3.825410e+06</td>\n",
              "      <td>3.141146e+06</td>\n",
              "      <td>2.604830e+06</td>\n",
              "      <td>8.119950e+04</td>\n",
              "      <td>95.346750</td>\n",
              "      <td>1.007900</td>\n",
              "      <td>0.070000</td>\n",
              "    </tr>\n",
              "    <tr>\n",
              "      <th>75%</th>\n",
              "      <td>175.750000</td>\n",
              "      <td>2.247650e+07</td>\n",
              "      <td>2.144798e+07</td>\n",
              "      <td>1.973085e+07</td>\n",
              "      <td>1.915957e+07</td>\n",
              "      <td>1.576230e+07</td>\n",
              "      <td>1.186923e+07</td>\n",
              "      <td>9.826054e+06</td>\n",
              "      <td>8.817329e+06</td>\n",
              "      <td>4.304258e+05</td>\n",
              "      <td>238.933250</td>\n",
              "      <td>1.016950</td>\n",
              "      <td>0.280000</td>\n",
              "    </tr>\n",
              "    <tr>\n",
              "      <th>max</th>\n",
              "      <td>234.000000</td>\n",
              "      <td>1.425887e+09</td>\n",
              "      <td>1.424930e+09</td>\n",
              "      <td>1.393715e+09</td>\n",
              "      <td>1.348191e+09</td>\n",
              "      <td>1.264099e+09</td>\n",
              "      <td>1.153704e+09</td>\n",
              "      <td>9.823725e+08</td>\n",
              "      <td>8.225344e+08</td>\n",
              "      <td>1.709824e+07</td>\n",
              "      <td>23172.266700</td>\n",
              "      <td>1.069100</td>\n",
              "      <td>17.880000</td>\n",
              "    </tr>\n",
              "  </tbody>\n",
              "</table>\n",
              "</div>\n",
              "      <button class=\"colab-df-convert\" onclick=\"convertToInteractive('df-70c2d954-3fd6-41aa-9bdf-534796b94d34')\"\n",
              "              title=\"Convert this dataframe to an interactive table.\"\n",
              "              style=\"display:none;\">\n",
              "        \n",
              "  <svg xmlns=\"http://www.w3.org/2000/svg\" height=\"24px\"viewBox=\"0 0 24 24\"\n",
              "       width=\"24px\">\n",
              "    <path d=\"M0 0h24v24H0V0z\" fill=\"none\"/>\n",
              "    <path d=\"M18.56 5.44l.94 2.06.94-2.06 2.06-.94-2.06-.94-.94-2.06-.94 2.06-2.06.94zm-11 1L8.5 8.5l.94-2.06 2.06-.94-2.06-.94L8.5 2.5l-.94 2.06-2.06.94zm10 10l.94 2.06.94-2.06 2.06-.94-2.06-.94-.94-2.06-.94 2.06-2.06.94z\"/><path d=\"M17.41 7.96l-1.37-1.37c-.4-.4-.92-.59-1.43-.59-.52 0-1.04.2-1.43.59L10.3 9.45l-7.72 7.72c-.78.78-.78 2.05 0 2.83L4 21.41c.39.39.9.59 1.41.59.51 0 1.02-.2 1.41-.59l7.78-7.78 2.81-2.81c.8-.78.8-2.07 0-2.86zM5.41 20L4 18.59l7.72-7.72 1.47 1.35L5.41 20z\"/>\n",
              "  </svg>\n",
              "      </button>\n",
              "      \n",
              "  <style>\n",
              "    .colab-df-container {\n",
              "      display:flex;\n",
              "      flex-wrap:wrap;\n",
              "      gap: 12px;\n",
              "    }\n",
              "\n",
              "    .colab-df-convert {\n",
              "      background-color: #E8F0FE;\n",
              "      border: none;\n",
              "      border-radius: 50%;\n",
              "      cursor: pointer;\n",
              "      display: none;\n",
              "      fill: #1967D2;\n",
              "      height: 32px;\n",
              "      padding: 0 0 0 0;\n",
              "      width: 32px;\n",
              "    }\n",
              "\n",
              "    .colab-df-convert:hover {\n",
              "      background-color: #E2EBFA;\n",
              "      box-shadow: 0px 1px 2px rgba(60, 64, 67, 0.3), 0px 1px 3px 1px rgba(60, 64, 67, 0.15);\n",
              "      fill: #174EA6;\n",
              "    }\n",
              "\n",
              "    [theme=dark] .colab-df-convert {\n",
              "      background-color: #3B4455;\n",
              "      fill: #D2E3FC;\n",
              "    }\n",
              "\n",
              "    [theme=dark] .colab-df-convert:hover {\n",
              "      background-color: #434B5C;\n",
              "      box-shadow: 0px 1px 3px 1px rgba(0, 0, 0, 0.15);\n",
              "      filter: drop-shadow(0px 1px 2px rgba(0, 0, 0, 0.3));\n",
              "      fill: #FFFFFF;\n",
              "    }\n",
              "  </style>\n",
              "\n",
              "      <script>\n",
              "        const buttonEl =\n",
              "          document.querySelector('#df-70c2d954-3fd6-41aa-9bdf-534796b94d34 button.colab-df-convert');\n",
              "        buttonEl.style.display =\n",
              "          google.colab.kernel.accessAllowed ? 'block' : 'none';\n",
              "\n",
              "        async function convertToInteractive(key) {\n",
              "          const element = document.querySelector('#df-70c2d954-3fd6-41aa-9bdf-534796b94d34');\n",
              "          const dataTable =\n",
              "            await google.colab.kernel.invokeFunction('convertToInteractive',\n",
              "                                                     [key], {});\n",
              "          if (!dataTable) return;\n",
              "\n",
              "          const docLinkHtml = 'Like what you see? Visit the ' +\n",
              "            '<a target=\"_blank\" href=https://colab.research.google.com/notebooks/data_table.ipynb>data table notebook</a>'\n",
              "            + ' to learn more about interactive tables.';\n",
              "          element.innerHTML = '';\n",
              "          dataTable['output_type'] = 'display_data';\n",
              "          await google.colab.output.renderOutput(dataTable, element);\n",
              "          const docLink = document.createElement('div');\n",
              "          docLink.innerHTML = docLinkHtml;\n",
              "          element.appendChild(docLink);\n",
              "        }\n",
              "      </script>\n",
              "    </div>\n",
              "  </div>\n",
              "  "
            ]
          },
          "metadata": {},
          "execution_count": 5
        }
      ]
    },
    {
      "cell_type": "markdown",
      "source": [
        "\n",
        "\n",
        "---\n",
        "\n",
        "\n",
        "####**Questionnare**\n",
        "\n",
        "---\n",
        "\n",
        "\n",
        "\n",
        "1.   Is there more population where there is more area?\n",
        "2.   Is the population always increasing with respect to time?\n",
        "3.   At what rate is the population increasing/decreasing?\n",
        "4.   Which country has highest growth rate?\n",
        "5.   Which country has least growth rate?\n",
        "6.   Which 5 countries are highly populous?\n",
        "7.   Which 5 countries are scarcely populous?\n",
        "8.   Which 5 countries have high population density?\n",
        "\n",
        "\n",
        "---\n",
        "\n",
        "\n",
        "\n"
      ],
      "metadata": {
        "id": "nuQ8flFFKdXU"
      }
    },
    {
      "cell_type": "markdown",
      "source": [
        "####**Organizing and Cleansing the Data**"
      ],
      "metadata": {
        "id": "5CRncCaHa67k"
      }
    },
    {
      "cell_type": "markdown",
      "source": [
        "**Finding number of numeric columns to work on**"
      ],
      "metadata": {
        "id": "ZUkCM8SsYtFp"
      }
    },
    {
      "cell_type": "code",
      "source": [
        "numerics = ['int16', 'int32', 'int64', 'float16', 'float32', 'float64'] # Numeric data types in pandas\n",
        "numdf=data.select_dtypes(include=numerics) # select_dtype filters only those data columns which includes numerical values.\n",
        "#print(numdf)\n",
        "print(\"Number of Numeric Columns :\",len(numdf.columns))"
      ],
      "metadata": {
        "colab": {
          "base_uri": "https://localhost:8080/"
        },
        "id": "edNv1lw2NFbN",
        "outputId": "2253796b-93a0-4fb0-a303-114f9e3cd57c"
      },
      "execution_count": null,
      "outputs": [
        {
          "output_type": "stream",
          "name": "stdout",
          "text": [
            "Number of Numeric Columns : 13\n"
          ]
        }
      ]
    },
    {
      "cell_type": "markdown",
      "source": [
        "**Finding out Missing Values**"
      ],
      "metadata": {
        "id": "Ft3xYHNbQeVk"
      }
    },
    {
      "cell_type": "code",
      "source": [
        "missing_values=data.isna().sum().sort_values(ascending=True)\n",
        "print(missing_values[missing_values==0])\n",
        "#There are no null/missing values in the data frame"
      ],
      "metadata": {
        "colab": {
          "base_uri": "https://localhost:8080/"
        },
        "id": "xZlInaKDQmLV",
        "outputId": "3294e29d-af16-43f3-b1a1-a616df1a892b"
      },
      "execution_count": null,
      "outputs": [
        {
          "output_type": "stream",
          "name": "stdout",
          "text": [
            "Rank                           0\n",
            "Density (per km²)              0\n",
            "Area (km²)                     0\n",
            "1970 Population                0\n",
            "1980 Population                0\n",
            "1990 Population                0\n",
            "2000 Population                0\n",
            "Growth Rate                    0\n",
            "2010 Population                0\n",
            "2020 Population                0\n",
            "2022 Population                0\n",
            "Continent                      0\n",
            "Capital                        0\n",
            "Country                        0\n",
            "CCA3                           0\n",
            "2015 Population                0\n",
            "World Population Percentage    0\n",
            "dtype: int64\n"
          ]
        }
      ]
    },
    {
      "cell_type": "markdown",
      "source": [
        "If we have a very high number of missing values in a column, we can drop/exclude that column from the analysis using the following function:\n",
        "`df.drop(['column_name'], axis=1)`\n",
        "\n",
        "If we have to consider that particular column, we can fill in the mean value of the entire column for better (more accurate) results."
      ],
      "metadata": {
        "id": "toJpysxGW11z"
      }
    },
    {
      "cell_type": "code",
      "source": [
        "missing_values.plot(kind=\"barh\")"
      ],
      "metadata": {
        "colab": {
          "base_uri": "https://localhost:8080/",
          "height": 282
        },
        "id": "_icmTRsSVk95",
        "outputId": "49cec53c-1275-4f10-9a43-1e305c33c839"
      },
      "execution_count": null,
      "outputs": [
        {
          "output_type": "execute_result",
          "data": {
            "text/plain": [
              "<matplotlib.axes._subplots.AxesSubplot at 0x7efc8fd23b90>"
            ]
          },
          "metadata": {},
          "execution_count": 8
        },
        {
          "output_type": "display_data",
          "data": {
            "text/plain": [
              "<Figure size 432x288 with 1 Axes>"
            ],
            "image/png": "[encoded data removed]"
          },
          "metadata": {
            "needs_background": "light"
          }
        }
      ]
    },
    {
      "cell_type": "markdown",
      "source": [
        "###**Data Analysis and Visualization**"
      ],
      "metadata": {
        "id": "wBTnDWCXZrcs"
      }
    },
    {
      "cell_type": "markdown",
      "source": [
        "Columns to be analysed:\n",
        "\n",
        "\n",
        "*   2022 Population\n",
        "*   2020 Population\n",
        "*   2015 Population\n",
        "*   2010 Population\n",
        "*   2000 Population\n",
        "*   1990 Population\n",
        "*   1980 Population\n",
        "*   1970 Population\n",
        "*   Growth Rate\n",
        "*   World Population Percentage\n",
        "*   Area\n",
        "*   Density\n"
      ],
      "metadata": {
        "id": "VoIbsY24kgNW"
      }
    },
    {
      "cell_type": "code",
      "source": [
        "data.columns"
      ],
      "metadata": {
        "colab": {
          "base_uri": "https://localhost:8080/"
        },
        "id": "TS4gl7R9Zznt",
        "outputId": "894b8096-9064-4e73-ccdf-b68758fb6b07"
      },
      "execution_count": null,
      "outputs": [
        {
          "output_type": "execute_result",
          "data": {
            "text/plain": [
              "Index(['Rank', 'CCA3', 'Country', 'Capital', 'Continent', '2022 Population',\n",
              "       '2020 Population', '2015 Population', '2010 Population',\n",
              "       '2000 Population', '1990 Population', '1980 Population',\n",
              "       '1970 Population', 'Area (km²)', 'Density (per km²)', 'Growth Rate',\n",
              "       'World Population Percentage'],\n",
              "      dtype='object')"
            ]
          },
          "metadata": {},
          "execution_count": 9
        }
      ]
    },
    {
      "cell_type": "code",
      "source": [
        "data.columns=[c.replace(' ','_') for c in data.columns]\n",
        "data.columns"
      ],
      "metadata": {
        "colab": {
          "base_uri": "https://localhost:8080/"
        },
        "id": "HaNPq2TvnI8k",
        "outputId": "094d50c7-258e-43ba-fa9d-0a888f4886a7"
      },
      "execution_count": null,
      "outputs": [
        {
          "output_type": "execute_result",
          "data": {
            "text/plain": [
              "Index(['Rank', 'CCA3', 'Country', 'Capital', 'Continent', '2022_Population',\n",
              "       '2020_Population', '2015_Population', '2010_Population',\n",
              "       '2000_Population', '1990_Population', '1980_Population',\n",
              "       '1970_Population', 'Area_(km²)', 'Density_(per_km²)', 'Growth_Rate',\n",
              "       'World_Population_Percentage'],\n",
              "      dtype='object')"
            ]
          },
          "metadata": {},
          "execution_count": 10
        }
      ]
    },
    {
      "cell_type": "markdown",
      "source": [
        "####**Total World Population Analysis**"
      ],
      "metadata": {
        "id": "Qlyq0NP4sH1U"
      }
    },
    {
      "cell_type": "markdown",
      "source": [
        "**Total World Population in different years**"
      ],
      "metadata": {
        "id": "VuOr6jcaseoO"
      }
    },
    {
      "cell_type": "code",
      "source": [
        "pd.set_option('display.max_rows',None)\n",
        "#print(data['2022_Population'])\n",
        "tp2022=data['2022_Population'].sum()\n",
        "tp2020=data['2020_Population'].sum()\n",
        "tp2015=data['2015_Population'].sum()\n",
        "tp2010=data['2010_Population'].sum()\n",
        "tp2000=data['2000_Population'].sum()\n",
        "tp1990=data['1990_Population'].sum()\n",
        "tp1980=data['1980_Population'].sum()\n",
        "tp1970=data['1970_Population'].sum()\n"
      ],
      "metadata": {
        "id": "4bxtFtU6n8tJ"
      },
      "execution_count": null,
      "outputs": []
    },
    {
      "cell_type": "markdown",
      "source": [
        "**Grapical Representation**"
      ],
      "metadata": {
        "id": "KG9tbz982Z5v"
      }
    },
    {
      "cell_type": "code",
      "source": [
        "worldp={'2022':[tp2022],'2020':[tp2020],'2015':[tp2015],'2010':[tp2010],'2000':[tp2000],'1990':[tp1990],'1980':[tp1980],'1970':[tp1970]}\n",
        "wdf=pd.DataFrame(worldp)\n",
        "wdf.plot(kind=\"bar\")"
      ],
      "metadata": {
        "colab": {
          "base_uri": "https://localhost:8080/",
          "height": 290
        },
        "id": "Y4WzItOntVO6",
        "outputId": "f916c17f-2816-4f8f-ab49-5f04ef885682"
      },
      "execution_count": null,
      "outputs": [
        {
          "output_type": "execute_result",
          "data": {
            "text/plain": [
              "<matplotlib.axes._subplots.AxesSubplot at 0x7efc8f880a10>"
            ]
          },
          "metadata": {},
          "execution_count": 12
        },
        {
          "output_type": "display_data",
          "data": {
            "text/plain": [
              "<Figure size 432x288 with 1 Axes>"
            ],
            "image/png": "[encoded data removed]"
          },
          "metadata": {
            "needs_background": "light"
          }
        }
      ]
    },
    {
      "cell_type": "markdown",
      "source": [
        "**Growth Percentage Analysis**"
      ],
      "metadata": {
        "id": "DKBs58hB2fN7"
      }
    },
    {
      "cell_type": "code",
      "source": [
        "gp=((tp2022-tp1970)/tp1970)*100\n",
        "print(\"Growth percentage of world population in last 52 years : \",round(gp,2),\"%\",sep=\"\")\n",
        "gp=((tp2022-tp2000)/tp2000)*100\n",
        "print(\"Growth percentage of world population between 2000 and 2022 : \",round(gp,2),\"%\",sep=\"\")\n",
        "gp=((tp2022-tp2010)/tp2010)*100\n",
        "print(\"Growth percentage of world population between 2010 and 2022 : \",round(gp,2),\"%\",sep=\"\")\n",
        "gp=((tp2022-tp2020)/tp2020)*100\n",
        "print(\"Growth percentage of world population between 2020 and 2022 : \",round(gp,2),\"%\",sep=\"\")"
      ],
      "metadata": {
        "colab": {
          "base_uri": "https://localhost:8080/"
        },
        "id": "GIlGDmV_xv_i",
        "outputId": "4d0b6449-6668-4cfe-8db9-43406793b036"
      },
      "execution_count": null,
      "outputs": [
        {
          "output_type": "stream",
          "name": "stdout",
          "text": [
            "Growth percentage of world population in last 52 years : 115.84%\n",
            "Growth percentage of world population between 2000 and 2022 : 29.71%\n",
            "Growth percentage of world population between 2010 and 2022 : 14.17%\n",
            "Growth percentage of world population between 2020 and 2022 : 1.71%\n"
          ]
        }
      ]
    },
    {
      "cell_type": "markdown",
      "source": [
        "####**Growth Rate of all countries in 2022**"
      ],
      "metadata": {
        "id": "R5OsV3BAsvke"
      }
    },
    {
      "cell_type": "code",
      "source": [
        "gr2022=data['Growth_Rate']\n",
        "avg_gr=(data['Growth_Rate'].sum())/len(gr2022)\n",
        "print(\"Average Growth Rate of all countries in 2022 : \",round(avg_gr,4),\"%\",sep=\"\")"
      ],
      "metadata": {
        "colab": {
          "base_uri": "https://localhost:8080/"
        },
        "id": "ol2DtjSU28No",
        "outputId": "c157133c-a400-4965-c749-c96a2ebe3f84"
      },
      "execution_count": null,
      "outputs": [
        {
          "output_type": "stream",
          "name": "stdout",
          "text": [
            "Average Growth Rate of all countries in 2022 : 1.0096%\n"
          ]
        }
      ]
    },
    {
      "cell_type": "markdown",
      "source": [
        "**Graphical Representation**"
      ],
      "metadata": {
        "id": "ARS6CIwV4ggD"
      }
    },
    {
      "cell_type": "code",
      "source": [
        "data.plot(x=\"Country\",y=\"Growth_Rate\",kind=\"scatter\")"
      ],
      "metadata": {
        "colab": {
          "base_uri": "https://localhost:8080/",
          "height": 296
        },
        "id": "vD3g7z9f4jun",
        "outputId": "f4701272-6437-46a7-f7cc-abaee00936d4"
      },
      "execution_count": null,
      "outputs": [
        {
          "output_type": "execute_result",
          "data": {
            "text/plain": [
              "<matplotlib.axes._subplots.AxesSubplot at 0x7efc8f881950>"
            ]
          },
          "metadata": {},
          "execution_count": 15
        },
        {
          "output_type": "display_data",
          "data": {
            "text/plain": [
              "<Figure size 432x288 with 1 Axes>"
            ],
            "image/png": "[encoded data removed]"
          },
          "metadata": {
            "needs_background": "light"
          }
        }
      ]
    },
    {
      "cell_type": "markdown",
      "source": [
        "**Top 5 Countries with Highest Growth Rate**"
      ],
      "metadata": {
        "id": "_iyE8qVY6UFD"
      }
    },
    {
      "cell_type": "code",
      "source": [
        "mapp=data.set_index(\"Growth_Rate\")[\"Country\"].squeeze(axis=0)\n",
        "growth=[];growth2=[]\n",
        "growth=list(data[\"Growth_Rate\"])\n",
        "growth.sort(reverse=True)\n",
        "growth2=growth[:5]\n",
        "c=1\n",
        "for x in growth2:\n",
        "  print(c,\". \",mapp[x],\"--> \",x,\"%\",sep=\"\")\n",
        "  c+=1"
      ],
      "metadata": {
        "colab": {
          "base_uri": "https://localhost:8080/"
        },
        "id": "cehqxCPsJ5Uq",
        "outputId": "ad443b18-ffcd-4f99-9feb-228d092f67f5"
      },
      "execution_count": null,
      "outputs": [
        {
          "output_type": "stream",
          "name": "stdout",
          "text": [
            "1. Moldova--> 1.0691%\n",
            "2. Poland--> 1.0404%\n",
            "3. Niger--> 1.0378%\n",
            "4. Syria--> 1.0376%\n",
            "5. Slovakia--> 1.0359%\n"
          ]
        }
      ]
    },
    {
      "cell_type": "markdown",
      "source": [
        "**Countries having Growth Rate below 1**"
      ],
      "metadata": {
        "id": "zWtdG5x1TT71"
      }
    },
    {
      "cell_type": "code",
      "source": [
        "growth=list(data[\"Growth_Rate\"])\n",
        "for x in growth:\n",
        "  if x<1:\n",
        "    print(mapp[x])"
      ],
      "metadata": {
        "colab": {
          "base_uri": "https://localhost:8080/"
        },
        "id": "pDk5CS0UTbZC",
        "outputId": "b8f5846b-4807-4bfe-ffc7-cca96855c254"
      },
      "execution_count": null,
      "outputs": [
        {
          "output_type": "stream",
          "name": "stdout",
          "text": [
            "Albania\n",
            "American Samoa\n",
            "Armenia\n",
            "Aruba\n",
            "Belarus\n",
            "Growth_Rate\n",
            "0.9886    Bosnia and Herzegovina\n",
            "0.9886          Marshall Islands\n",
            "Name: Country, dtype: object\n",
            "Bulgaria\n",
            "Croatia\n",
            "Cuba\n",
            "Czech Republic\n",
            "Growth_Rate\n",
            "0.998         Estonia\n",
            "0.998    Vatican City\n",
            "Name: Country, dtype: object\n",
            "Growth_Rate\n",
            "0.9964                      Georgia\n",
            "0.9964    Saint Pierre and Miquelon\n",
            "Name: Country, dtype: object\n",
            "Germany\n",
            "Gibraltar\n",
            "Greece\n",
            "Growth_Rate\n",
            "0.9992    Guadeloupe\n",
            "0.9992     Hong Kong\n",
            "Name: Country, dtype: object\n",
            "Growth_Rate\n",
            "0.9992    Guadeloupe\n",
            "0.9992     Hong Kong\n",
            "Name: Country, dtype: object\n",
            "Italy\n",
            "Jamaica\n",
            "Japan\n",
            "Latvia\n",
            "Lebanon\n",
            "Lithuania\n",
            "Growth_Rate\n",
            "0.9886    Bosnia and Herzegovina\n",
            "0.9886          Marshall Islands\n",
            "Name: Country, dtype: object\n",
            "Martinique\n",
            "Monaco\n",
            "Montenegro\n",
            "Montserrat\n",
            "Niue\n",
            "North Macedonia\n",
            "Portugal\n",
            "Puerto Rico\n",
            "Russia\n",
            "Saint Martin\n",
            "Growth_Rate\n",
            "0.9964                      Georgia\n",
            "0.9964    Saint Pierre and Miquelon\n",
            "Name: Country, dtype: object\n",
            "Saint Vincent and the Grenadines\n",
            "San Marino\n",
            "Serbia\n",
            "South Korea\n",
            "Ukraine\n",
            "United States Virgin Islands\n",
            "Uruguay\n",
            "Growth_Rate\n",
            "0.998         Estonia\n",
            "0.998    Vatican City\n",
            "Name: Country, dtype: object\n",
            "Wallis and Futuna\n"
          ]
        }
      ]
    },
    {
      "cell_type": "markdown",
      "source": [
        "**Top 5 Countries with Least Growth Rate**"
      ],
      "metadata": {
        "id": "Q7_uMYMyR5Ym"
      }
    },
    {
      "cell_type": "code",
      "source": [
        "growth.sort()\n",
        "growth1=[]\n",
        "growth1=growth[:5]\n",
        "map2=data.set_index(\"Growth_Rate\")[\"Country\"].squeeze()\n",
        "c=1\n",
        "for x in growth1:\n",
        "  print(c,\". \",map2[x],\"--> \",x,\"%\",sep=\"\")\n",
        "  c+=1"
      ],
      "metadata": {
        "colab": {
          "base_uri": "https://localhost:8080/"
        },
        "id": "1CPdIqHVR_Bi",
        "outputId": "12971777-d8e5-4191-fa92-ed2617225f47"
      },
      "execution_count": null,
      "outputs": [
        {
          "output_type": "stream",
          "name": "stdout",
          "text": [
            "1. Ukraine--> 0.912%\n",
            "2. Lebanon--> 0.9816%\n",
            "3. American Samoa--> 0.9831%\n",
            "4. Bulgaria--> 0.9849%\n",
            "5. Lithuania--> 0.9869%\n"
          ]
        }
      ]
    },
    {
      "cell_type": "markdown",
      "source": [
        "####**Population Density in 2022**"
      ],
      "metadata": {
        "id": "FVy65pYHPnWD"
      }
    },
    {
      "cell_type": "code",
      "source": [
        "gr2022=data['Density_(per_km²)']\n",
        "avg_gr=(data['Density_(per_km²)'].sum())/len(gr2022)\n",
        "print(\"Average Population Density of all countries in 2022 : \",round(avg_gr,4),\"/km²\",sep=\"\")"
      ],
      "metadata": {
        "colab": {
          "base_uri": "https://localhost:8080/"
        },
        "id": "6eeghdBCPtXh",
        "outputId": "e94f92a3-2da2-4e94-d20a-a4568c2d73e1"
      },
      "execution_count": null,
      "outputs": [
        {
          "output_type": "stream",
          "name": "stdout",
          "text": [
            "Average Population Density of all countries in 2022 : 452.127/km²\n"
          ]
        }
      ]
    },
    {
      "cell_type": "markdown",
      "source": [
        "**Graphical Representation**"
      ],
      "metadata": {
        "id": "h5tn_XEDQX8l"
      }
    },
    {
      "cell_type": "code",
      "source": [
        "data.plot(x=\"Country\",y=\"Density_(per_km²)\",kind=\"scatter\")"
      ],
      "metadata": {
        "colab": {
          "base_uri": "https://localhost:8080/"
        },
        "id": "0zEIabJKQVQz",
        "outputId": "fe0422e9-cd75-434d-80a8-cc12ca42e00c"
      },
      "execution_count": null,
      "outputs": [
        {
          "output_type": "execute_result",
          "data": {
            "text/plain": [
              "<matplotlib.axes._subplots.AxesSubplot at 0x7efc8ef864d0>"
            ]
          },
          "metadata": {},
          "execution_count": 20
        },
        {
          "output_type": "display_data",
          "data": {
            "text/plain": [
              "<Figure size 432x288 with 1 Axes>"
            ],
            "image/png": "[encoded data removed]"
          },
          "metadata": {
            "needs_background": "light"
          }
        }
      ]
    },
    {
      "cell_type": "markdown",
      "source": [
        "**Top 5 Countries with Highest Population Density**"
      ],
      "metadata": {
        "id": "p2NDu73PRAOF"
      }
    },
    {
      "cell_type": "code",
      "source": [
        "mapp=data.set_index(\"Density_(per_km²)\")[\"Country\"].squeeze(axis=0)\n",
        "den=[];den2=[]\n",
        "den=list(data[\"Density_(per_km²)\"])\n",
        "den.sort(reverse=True)\n",
        "den2=den[:5]\n",
        "c=1\n",
        "for x in den2:\n",
        "  print(c,\". \",mapp[x],\"--> \",x,\"/km²\",sep=\"\")\n",
        "  c+=1"
      ],
      "metadata": {
        "colab": {
          "base_uri": "https://localhost:8080/"
        },
        "id": "TmOTuOBwROun",
        "outputId": "a6eda560-d031-4d19-8c55-afcf5527cb11"
      },
      "execution_count": null,
      "outputs": [
        {
          "output_type": "stream",
          "name": "stdout",
          "text": [
            "1. Macau--> 23172.2667/km²\n",
            "2. Monaco--> 18234.5/km²\n",
            "3. Singapore--> 8416.4634/km²\n",
            "4. Hong Kong--> 6783.3922/km²\n",
            "5. Gibraltar--> 5441.5/km²\n"
          ]
        }
      ]
    },
    {
      "cell_type": "markdown",
      "source": [
        "**Top 5 Countries with Least Population Density**"
      ],
      "metadata": {
        "id": "J2c2lw8CSCMz"
      }
    },
    {
      "cell_type": "code",
      "source": [
        "den.sort()\n",
        "den1=[]\n",
        "den1=den[:5]\n",
        "map2=data.set_index(\"Density_(per_km²)\")[\"Country\"].squeeze()\n",
        "c=1\n",
        "for x in den1:\n",
        "  print(c,\". \",map2[x],\"--> \",x,\"/km²\",sep=\"\")\n",
        "  c+=1"
      ],
      "metadata": {
        "colab": {
          "base_uri": "https://localhost:8080/"
        },
        "id": "6muYgYkbSQlj",
        "outputId": "d4dfaf30-4e1d-422b-e4de-fa452933824a"
      },
      "execution_count": null,
      "outputs": [
        {
          "output_type": "stream",
          "name": "stdout",
          "text": [
            "1. Greenland--> 0.0261/km²\n",
            "2. Falkland Islands--> 0.3105/km²\n",
            "3. Western Sahara--> 2.1654/km²\n",
            "4. Mongolia--> 2.1727/km²\n",
            "5. Namibia--> 3.1092/km²\n"
          ]
        }
      ]
    },
    {
      "cell_type": "markdown",
      "source": [
        "####**Area Vs Population**"
      ],
      "metadata": {
        "id": "unNWxwOim-SE"
      }
    },
    {
      "cell_type": "code",
      "source": [
        "import matplotlib.pyplot as plt\n",
        "import seaborn as sns\n",
        "import numpy as np\n",
        "xaxis=np.array(data[\"Area_(km²)\"])\n",
        "yaxis=np.array(data[\"2022_Population\"]) \n",
        "sns.set(style=\"darkgrid\")\n",
        "sns.lmplot(x=\"Area_(km²)\",y=\"2022_Population\",data=data)\n",
        "# plt.plot(data[\"Area_(km²)\"],data[\"2022_Population\"],marker='*',linestyle=\"dotted\",color='r')"
      ],
      "metadata": {
        "colab": {
          "base_uri": "https://localhost:8080/"
        },
        "id": "RtpJowRBnkJ1",
        "outputId": "664ff50a-40f1-4bf3-b8d6-ad9d516f7a34"
      },
      "execution_count": null,
      "outputs": [
        {
          "output_type": "execute_result",
          "data": {
            "text/plain": [
              "<seaborn.axisgrid.FacetGrid at 0x7efc82b39210>"
            ]
          },
          "metadata": {},
          "execution_count": 23
        },
        {
          "output_type": "display_data",
          "data": {
            "text/plain": [
              "<Figure size 360x360 with 1 Axes>"
            ],
            "image/png": "[encoded data removed]"
          },
          "metadata": {}
        }
      ]
    },
    {
      "cell_type": "markdown",
      "source": [
        "By analysing the above graph, this conclusion can be drawn that population is not directly proportional to the area of the country"
      ],
      "metadata": {
        "id": "DX3ugVuGsWRF"
      }
    },
    {
      "cell_type": "markdown",
      "source": [
        "####**Comparision Between Any Two Countries**"
      ],
      "metadata": {
        "id": "AXo5WwY_Biah"
      }
    },
    {
      "cell_type": "markdown",
      "source": [
        "#####**List Of Countries**"
      ],
      "metadata": {
        "id": "tDFnISTkKtEb"
      }
    },
    {
      "cell_type": "code",
      "source": [
        "data[\"Country\"]"
      ],
      "metadata": {
        "colab": {
          "base_uri": "https://localhost:8080/"
        },
        "id": "apVyZlvmJ6_7",
        "outputId": "2d0d7f83-8007-4fdd-a9fb-4c42117b7da5"
      },
      "execution_count": null,
      "outputs": [
        {
          "output_type": "execute_result",
          "data": {
            "text/plain": [
              "0                           Afghanistan\n",
              "1                               Albania\n",
              "2                               Algeria\n",
              "3                        American Samoa\n",
              "4                               Andorra\n",
              "5                                Angola\n",
              "6                              Anguilla\n",
              "7                   Antigua and Barbuda\n",
              "8                             Argentina\n",
              "9                               Armenia\n",
              "10                                Aruba\n",
              "11                            Australia\n",
              "12                              Austria\n",
              "13                           Azerbaijan\n",
              "14                              Bahamas\n",
              "15                              Bahrain\n",
              "16                           Bangladesh\n",
              "17                             Barbados\n",
              "18                              Belarus\n",
              "19                              Belgium\n",
              "20                               Belize\n",
              "21                                Benin\n",
              "22                              Bermuda\n",
              "23                               Bhutan\n",
              "24                              Bolivia\n",
              "25               Bosnia and Herzegovina\n",
              "26                             Botswana\n",
              "27                               Brazil\n",
              "28               British Virgin Islands\n",
              "29                               Brunei\n",
              "30                             Bulgaria\n",
              "31                         Burkina Faso\n",
              "32                              Burundi\n",
              "33                             Cambodia\n",
              "34                             Cameroon\n",
              "35                               Canada\n",
              "36                           Cape Verde\n",
              "37                       Cayman Islands\n",
              "38             Central African Republic\n",
              "39                                 Chad\n",
              "40                                Chile\n",
              "41                                China\n",
              "42                             Colombia\n",
              "43                              Comoros\n",
              "44                         Cook Islands\n",
              "45                           Costa Rica\n",
              "46                              Croatia\n",
              "47                                 Cuba\n",
              "48                              Curacao\n",
              "49                               Cyprus\n",
              "50                       Czech Republic\n",
              "51                              Denmark\n",
              "52                             Djibouti\n",
              "53                             Dominica\n",
              "54                   Dominican Republic\n",
              "55                             DR Congo\n",
              "56                              Ecuador\n",
              "57                                Egypt\n",
              "58                          El Salvador\n",
              "59                    Equatorial Guinea\n",
              "60                              Eritrea\n",
              "61                              Estonia\n",
              "62                             Eswatini\n",
              "63                             Ethiopia\n",
              "64                     Falkland Islands\n",
              "65                        Faroe Islands\n",
              "66                                 Fiji\n",
              "67                              Finland\n",
              "68                               France\n",
              "69                        French Guiana\n",
              "70                     French Polynesia\n",
              "71                                Gabon\n",
              "72                               Gambia\n",
              "73                              Georgia\n",
              "74                              Germany\n",
              "75                                Ghana\n",
              "76                            Gibraltar\n",
              "77                               Greece\n",
              "78                            Greenland\n",
              "79                              Grenada\n",
              "80                           Guadeloupe\n",
              "81                                 Guam\n",
              "82                            Guatemala\n",
              "83                             Guernsey\n",
              "84                               Guinea\n",
              "85                        Guinea-Bissau\n",
              "86                               Guyana\n",
              "87                                Haiti\n",
              "88                             Honduras\n",
              "89                            Hong Kong\n",
              "90                              Hungary\n",
              "91                              Iceland\n",
              "92                                India\n",
              "93                            Indonesia\n",
              "94                                 Iran\n",
              "95                                 Iraq\n",
              "96                              Ireland\n",
              "97                          Isle of Man\n",
              "98                               Israel\n",
              "99                                Italy\n",
              "100                         Ivory Coast\n",
              "101                             Jamaica\n",
              "102                               Japan\n",
              "103                              Jersey\n",
              "104                              Jordan\n",
              "105                          Kazakhstan\n",
              "106                               Kenya\n",
              "107                            Kiribati\n",
              "108                              Kuwait\n",
              "109                          Kyrgyzstan\n",
              "110                                Laos\n",
              "111                              Latvia\n",
              "112                             Lebanon\n",
              "113                             Lesotho\n",
              "114                             Liberia\n",
              "115                               Libya\n",
              "116                       Liechtenstein\n",
              "117                           Lithuania\n",
              "118                          Luxembourg\n",
              "119                               Macau\n",
              "120                          Madagascar\n",
              "121                              Malawi\n",
              "122                            Malaysia\n",
              "123                            Maldives\n",
              "124                                Mali\n",
              "125                               Malta\n",
              "126                    Marshall Islands\n",
              "127                          Martinique\n",
              "128                          Mauritania\n",
              "129                           Mauritius\n",
              "130                             Mayotte\n",
              "131                              Mexico\n",
              "132                          Micronesia\n",
              "133                             Moldova\n",
              "134                              Monaco\n",
              "135                            Mongolia\n",
              "136                          Montenegro\n",
              "137                          Montserrat\n",
              "138                             Morocco\n",
              "139                          Mozambique\n",
              "140                             Myanmar\n",
              "141                             Namibia\n",
              "142                               Nauru\n",
              "143                               Nepal\n",
              "144                         Netherlands\n",
              "145                       New Caledonia\n",
              "146                         New Zealand\n",
              "147                           Nicaragua\n",
              "148                               Niger\n",
              "149                             Nigeria\n",
              "150                                Niue\n",
              "151                         North Korea\n",
              "152                     North Macedonia\n",
              "153            Northern Mariana Islands\n",
              "154                              Norway\n",
              "155                                Oman\n",
              "156                            Pakistan\n",
              "157                               Palau\n",
              "158                           Palestine\n",
              "159                              Panama\n",
              "160                    Papua New Guinea\n",
              "161                            Paraguay\n",
              "162                                Peru\n",
              "163                         Philippines\n",
              "164                              Poland\n",
              "165                            Portugal\n",
              "166                         Puerto Rico\n",
              "167                               Qatar\n",
              "168               Republic of the Congo\n",
              "169                             Reunion\n",
              "170                             Romania\n",
              "171                              Russia\n",
              "172                              Rwanda\n",
              "173                    Saint Barthelemy\n",
              "174               Saint Kitts and Nevis\n",
              "175                         Saint Lucia\n",
              "176                        Saint Martin\n",
              "177           Saint Pierre and Miquelon\n",
              "178    Saint Vincent and the Grenadines\n",
              "179                               Samoa\n",
              "180                          San Marino\n",
              "181               Sao Tome and Principe\n",
              "182                        Saudi Arabia\n",
              "183                             Senegal\n",
              "184                              Serbia\n",
              "185                          Seychelles\n",
              "186                        Sierra Leone\n",
              "187                           Singapore\n",
              "188                        Sint Maarten\n",
              "189                            Slovakia\n",
              "190                            Slovenia\n",
              "191                     Solomon Islands\n",
              "192                             Somalia\n",
              "193                        South Africa\n",
              "194                         South Korea\n",
              "195                         South Sudan\n",
              "196                               Spain\n",
              "197                           Sri Lanka\n",
              "198                               Sudan\n",
              "199                            Suriname\n",
              "200                              Sweden\n",
              "201                         Switzerland\n",
              "202                               Syria\n",
              "203                              Taiwan\n",
              "204                          Tajikistan\n",
              "205                            Tanzania\n",
              "206                            Thailand\n",
              "207                         Timor-Leste\n",
              "208                                Togo\n",
              "209                             Tokelau\n",
              "210                               Tonga\n",
              "211                 Trinidad and Tobago\n",
              "212                             Tunisia\n",
              "213                              Turkey\n",
              "214                        Turkmenistan\n",
              "215            Turks and Caicos Islands\n",
              "216                              Tuvalu\n",
              "217                              Uganda\n",
              "218                             Ukraine\n",
              "219                United Arab Emirates\n",
              "220                      United Kingdom\n",
              "221                       United States\n",
              "222        United States Virgin Islands\n",
              "223                             Uruguay\n",
              "224                          Uzbekistan\n",
              "225                             Vanuatu\n",
              "226                        Vatican City\n",
              "227                           Venezuela\n",
              "228                             Vietnam\n",
              "229                   Wallis and Futuna\n",
              "230                      Western Sahara\n",
              "231                               Yemen\n",
              "232                              Zambia\n",
              "233                            Zimbabwe\n",
              "Name: Country, dtype: object"
            ]
          },
          "metadata": {},
          "execution_count": 24
        }
      ]
    },
    {
      "cell_type": "markdown",
      "source": [
        "#####**Graphical Representation**"
      ],
      "metadata": {
        "id": "v6K53YyCLQF-"
      }
    },
    {
      "cell_type": "code",
      "source": [
        "print(\"Give the inputs in Title Case below : \")\n",
        "c1=input(\"Enter the first country : \")\n",
        "c2=input(\"Enter the second country : \")\n",
        "cA=data.loc[data[\"Country\"]==c1]\n",
        "cB=data.loc[data[\"Country\"]==c2]\n",
        "\n",
        "country=list(data[\"Country\"])\n",
        "\n",
        "pA=[];pB=[]\n",
        "for x in cA:\n",
        "  if \"Population\" in x:\n",
        "    if \"World\" not in x:\n",
        "      pA.append(cA[x])\n",
        "\n",
        "for x in cB:\n",
        "  if \"Population\" in x:\n",
        "    if \"World\" not in x:\n",
        "      pB.append(cB[x])\n",
        "      \n",
        "country1=[];country2=[]\n",
        "for x in pA:\n",
        "  country1.append(x[country.index(c1)])\n",
        "\n",
        "for x in pB:\n",
        "  country2.append(x[country.index(c2)])\n",
        "\n",
        "country1=country1[::-1]\n",
        "country2=country2[::-1]\n",
        "\n",
        "year=[0,1970,1990,2010,2020,2030]\n",
        "\n",
        "plt.xlabel(\"T i m e    -->    L a s t    5 2    Y e a r s\")\n",
        "plt.ylabel(\"P o p u l a t i o n\")\n",
        "ax=plt.axes()\n",
        "ax.set_xticklabels(year)\n",
        "plt.plot(country1, color='b', marker='o',label=c1)\n",
        "plt.plot(country2, color='r', marker='o',label=c2)\n",
        "plt.margins(0.2)\n",
        "plt.legend()\n",
        "plt.show()"
      ],
      "metadata": {
        "colab": {
          "base_uri": "https://localhost:8080/",
          "height": 385
        },
        "id": "pZJUcfTqDzZM",
        "outputId": "261f74f5-8063-41e5-96e3-34bb018e2cb9"
      },
      "execution_count": null,
      "outputs": [
        {
          "name": "stdout",
          "output_type": "stream",
          "text": [
            "Give the inputs in Title Case below : \n",
            "Enter the first country : India\n",
            "Enter the second country : China\n"
          ]
        },
        {
          "output_type": "stream",
          "name": "stderr",
          "text": [
            "/usr/local/lib/python3.7/dist-packages/ipykernel_launcher.py:34: MatplotlibDeprecationWarning: Adding an axes using the same arguments as a previous axes currently reuses the earlier instance.  In a future version, a new instance will always be created and returned.  Meanwhile, this warning can be suppressed, and the future behavior ensured, by passing a unique label to each axes instance.\n"
          ]
        },
        {
          "output_type": "display_data",
          "data": {
            "text/plain": [
              "<Figure size 432x288 with 1 Axes>"
            ],
            "image/png": "[encoded data removed]"
          },
          "metadata": {}
        }
      ]
    },
    {
      "cell_type": "markdown",
      "source": [
        "* The blue line represents the graphical representation of the first country\n",
        "* The red line represents the graphical representation of the second country"
      ],
      "metadata": {
        "id": "eqNlVfV4LzCy"
      }
    },
    {
      "cell_type": "markdown",
      "source": [
        "####**World Population Shares**"
      ],
      "metadata": {
        "id": "AcIFcLDqlGpW"
      }
    },
    {
      "cell_type": "code",
      "source": [
        "import matplotlib.pyplot as plt\n",
        "import seaborn as sns\n",
        "import numpy as np\n",
        "xaxis=np.array(data[\"World_Population_Percentage\"])\n",
        "labels=np.array(data[\"Country\"])\n",
        "plt.pie(xaxis, autopct='%.0f%%',labels=labels)\n",
        "plt.show()"
      ],
      "metadata": {
        "colab": {
          "base_uri": "https://localhost:8080/",
          "height": 248
        },
        "id": "GvBNWjR9lQP7",
        "outputId": "e34478e1-f967-458e-d829-39b215cf11f9"
      },
      "execution_count": null,
      "outputs": [
        {
          "output_type": "display_data",
          "data": {
            "text/plain": [
              "<Figure size 432x288 with 1 Axes>"
            ],
            "image/png": "[encoded data removed]"
          },
          "metadata": {}
        }
      ]
    },
    {
      "cell_type": "markdown",
      "source": [
        "####**India Vs China Future Population Prediction**"
      ],
      "metadata": {
        "id": "F3_SG0cZy8vd"
      }
    },
    {
      "cell_type": "code",
      "source": [
        "from google.colab import drive\n",
        "drive.mount('/content/drive')"
      ],
      "metadata": {
        "colab": {
          "base_uri": "https://localhost:8080/"
        },
        "id": "jiMJ56BYzsa7",
        "outputId": "fc70345f-1b2c-40bd-ccfc-2157ce03cea3"
      },
      "execution_count": 2,
      "outputs": [
        {
          "output_type": "stream",
          "name": "stdout",
          "text": [
            "Mounted at /content/drive\n"
          ]
        }
      ]
    },
    {
      "cell_type": "code",
      "source": [
        "import matplotlib.pyplot as plt\n",
        "import numpy as np\n",
        "import csv\n",
        "from sklearn import linear_model\n",
        "\n",
        "path='/content/drive/MyDrive/Colab Notebooks/Datasets/world_population.csv'\n",
        "file=open(path)\n",
        "data=csv.DictReader(file,delimiter=',')\n",
        "\n",
        "#INDIA PREDICTION\n",
        "for col in data:\n",
        "  if col[\"Country\"]==\"India\":\n",
        "    population=np.array([[int(col['1970 Population'])],[int(col['1980 Population'])],[int(col['1990 Population'])],[int(col['2000 Population'])],[int(col['2010 Population'])],[int(col['2015 Population'])],[int(col['2020 Population'])],[int(col['2022 Population'])]])\n",
        "    years=np.array([[1970],[1980],[1990],[2000],[2010],[2015],[2020],[2022]])\n",
        "model=linear_model.LinearRegression()\n",
        "model.fit(years,population)\n",
        "\n",
        "future=np.array([[2030],[2040],[2050],[2060],[2070]])\n",
        "ypredicted=model.predict(future)\n",
        "\n",
        "plt.scatter(years,population)\n",
        "plt.scatter(future,ypredicted)\n",
        "plt.title(\"India : Population Prediction\",fontsize=30)\n",
        "plt.xlabel(\"Years\",fontsize=18)\n",
        "plt.ylabel(\"Population\",fontsize=18)\n",
        "plt.show()\n",
        "\n",
        "\n",
        "\n",
        "print(\"\\n\\n\\n\")\n",
        "#CHINA PREDICTION\n",
        "for col in data:\n",
        "  if col[\"Country\"]==\"China\":\n",
        "    population=np.array([[int(col['1970 Population'])],[int(col['1980 Population'])],[int(col['1990 Population'])],[int(col['2000 Population'])],[int(col['2010 Population'])],[int(col['2015 Population'])],[int(col['2020 Population'])],[int(col['2022 Population'])]])\n",
        "    years=np.array([[1970],[1980],[1990],[2000],[2010],[2015],[2020],[2022]])\n",
        "model=linear_model.LinearRegression()\n",
        "model.fit(years,population)\n",
        "\n",
        "future=np.array([[2030],[2040],[2050],[2060],[2070]])\n",
        "ypredicted=model.predict(future)\n",
        "\n",
        "plt.scatter(years,population)\n",
        "plt.scatter(future,ypredicted)\n",
        "plt.title(\"China : Population Prediction\",fontsize=29)\n",
        "plt.xlabel(\"Years\",fontsize=18)\n",
        "plt.ylabel(\"Population\",fontsize=18)\n",
        "plt.show()\n",
        "\n",
        "\n",
        "#  INDIA                        CHINA\n",
        "#  [2030] [1.56808658e+09]      [2030] [1.56045319e+09]\n",
        "#  [2040] [1.73904094e+09]      [2040] [1.67496784e+09]\n",
        "#  [2050] [1.90999530e+09]      [2050] [1.78948249e+09]\n",
        "#  [2060] [2.08094967e+09]      [2060] [1.90399714e+09]\n",
        "#  [2070] [2.25190403e+09]      [2070] [2.01851180e+09]"
      ],
      "metadata": {
        "colab": {
          "base_uri": "https://localhost:8080/",
          "height": 683
        },
        "id": "OJkwgw6JzOBf",
        "outputId": "48e94a8f-2184-4f08-f56c-33a648153000"
      },
      "execution_count": 15,
      "outputs": [
        {
          "output_type": "display_data",
          "data": {
            "text/plain": [
              "<Figure size 432x288 with 1 Axes>"
            ],
            "image/png": "[encoded data removed]"
          },
          "metadata": {
            "needs_background": "light"
          }
        },
        {
          "output_type": "stream",
          "name": "stdout",
          "text": [
            "\n",
            "\n",
            "\n",
            "\n"
          ]
        },
        {
          "output_type": "display_data",
          "data": {
            "text/plain": [
              "<Figure size 432x288 with 1 Axes>"
            ],
            "image/png": "[encoded data removed]"
          },
          "metadata": {
            "needs_background": "light"
          }
        }
      ]
    }
  ]
}